{
 "cells": [
  {
   "cell_type": "markdown",
   "id": "348a40ea-9623-4bb8-a00a-ac1a94e0d93a",
   "metadata": {},
   "source": [
    "# Data Science Tools and Ecosystem\n",
    " **Objectives of this notebook:**\n",
    "- List popular languages for Data Science\n",
    "- List popular libraries for Data Science\n",
    "- Arthemetic expressions\n",
    "- Converting mins to hours\n"
   ]
  },
  {
   "cell_type": "markdown",
   "id": "1402bdc0-bcd6-4a5a-ac56-f65d20fee2b7",
   "metadata": {},
   "source": [
    "In this notebook, Data Science Tools and Ecosystem are summarized"
   ]
  },
  {
   "cell_type": "markdown",
   "id": "844c9ecf-7291-4e6b-9bfe-7e43255a78c2",
   "metadata": {},
   "source": [
    "Some of the popular languages that Data Scientists use are:\n",
    "1. Python\n",
    "2. R\n",
    "3. C++\n",
    "4. Scala\n",
    "5. Julia"
   ]
  },
  {
   "cell_type": "markdown",
   "id": "9654461e-511a-400d-873d-d5d0e969a47f",
   "metadata": {},
   "source": [
    "Some of the commonly used libraries used by Data Scientists include:\n",
    "1. Pandas\n",
    "2. numPy\n",
    "3. Matplotlib\n"
   ]
  },
  {
   "cell_type": "markdown",
   "id": "02e88444-61dd-4181-b519-6659ee98fbd8",
   "metadata": {},
   "source": [
    "|Data Science Tools|\n",
    "|------|\n",
    "|Visual Studio Code|\n",
    "|Jupyter Notebook|\n",
    "|JupyterLab|"
   ]
  },
  {
   "cell_type": "markdown",
   "id": "02fb4b3c-da3a-4b10-b246-9366a92d24c9",
   "metadata": {},
   "source": [
    "### Below are a few examples of evaluating arithmetic expressions in Python:"
   ]
  },
  {
   "cell_type": "code",
   "execution_count": 13,
   "id": "c5fb40fd-348f-4a15-a6b0-402f7455c098",
   "metadata": {},
   "outputs": [
    {
     "data": {
      "text/plain": [
       "17"
      ]
     },
     "execution_count": 13,
     "metadata": {},
     "output_type": "execute_result"
    }
   ],
   "source": [
    "## This a simple arithmetic expression to mutiply then add integers\n",
    "(3*4)+5"
   ]
  },
  {
   "cell_type": "code",
   "execution_count": 15,
   "id": "fb03fe39-9e6a-4bbc-a8c2-10b681f1dcba",
   "metadata": {},
   "outputs": [
    {
     "data": {
      "text/plain": [
       "3.3333333333333335"
      ]
     },
     "execution_count": 15,
     "metadata": {},
     "output_type": "execute_result"
    }
   ],
   "source": [
    "#This will convert 200 minutes to hours by diving by 60\n",
    "200/60"
   ]
  },
  {
   "cell_type": "markdown",
   "id": "7aa948e5-436c-470a-899f-8053edb8a09a",
   "metadata": {},
   "source": [
    "## Author:\n",
    "Basel "
   ]
  },
  {
   "cell_type": "code",
   "execution_count": null,
   "id": "23cb1aa4-dfce-43c0-8ee8-292c7eee7f1c",
   "metadata": {},
   "outputs": [],
   "source": []
  }
 ],
 "metadata": {
  "kernelspec": {
   "display_name": "Python 3 (ipykernel)",
   "language": "python",
   "name": "python3"
  },
  "language_info": {
   "codemirror_mode": {
    "name": "ipython",
    "version": 3
   },
   "file_extension": ".py",
   "mimetype": "text/x-python",
   "name": "python",
   "nbconvert_exporter": "python",
   "pygments_lexer": "ipython3",
   "version": "3.12.7"
  }
 },
 "nbformat": 4,
 "nbformat_minor": 5
}
